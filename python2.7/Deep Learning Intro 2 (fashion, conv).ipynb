{
 "cells": [
  {
   "cell_type": "markdown",
   "metadata": {},
   "source": [
    "# Deep Learning Intro 2\n",
    "\n",
    "Feed Forward Network ~ function composition\n",
    "\n",
    "Tensorflow -- make computations given the computational network -- cnw ~ tensor computations\n",
    "\n",
    "<img src=\"./neuron_model.jpeg\"  width=\"50%\">\n",
    "\n",
    "keras ~ wrapper"
   ]
  },
  {
   "cell_type": "code",
   "execution_count": 1,
   "metadata": {},
   "outputs": [
    {
     "name": "stderr",
     "output_type": "stream",
     "text": [
      "Using TensorFlow backend.\n"
     ]
    }
   ],
   "source": [
    "import matplotlib.pyplot as plt\n",
    "import keras\n",
    "\n",
    "from keras.datasets import fashion_mnist\n",
    "\n",
    "from keras.models import Sequential, Model\n",
    "from keras.layers import Dense, Flatten\n",
    "from keras.layers import Dropout, Lambda, Input\n",
    "from keras.layers import Conv2D, MaxPooling2D, BatchNormalization\n",
    "\n",
    "import keras.backend as K\n",
    "\n",
    "from keras.optimizers import Adam\n",
    "\n",
    "import numpy as np\n",
    "\n",
    "%matplotlib inline"
   ]
  },
  {
   "cell_type": "code",
   "execution_count": 2,
   "metadata": {},
   "outputs": [],
   "source": [
    "#set up random seed for debugging\n",
    "np.random.seed(666)"
   ]
  },
  {
   "cell_type": "code",
   "execution_count": 3,
   "metadata": {},
   "outputs": [
    {
     "name": "stdout",
     "output_type": "stream",
     "text": [
      "category of first stuff: 9\n"
     ]
    }
   ],
   "source": [
    "(X_train, Y_train), (X_test, Y_test) = fashion_mnist.load_data()\n",
    "\n",
    "print \"category of first stuff:\", Y_train[0]"
   ]
  },
  {
   "cell_type": "code",
   "execution_count": 4,
   "metadata": {},
   "outputs": [],
   "source": [
    "#normalize stuff\n",
    "X_train = X_train.astype('float32')\n",
    "X_test = X_test.astype('float32')\n",
    "X_train /= 255\n",
    "X_test /= 255"
   ]
  },
  {
   "cell_type": "code",
   "execution_count": 5,
   "metadata": {},
   "outputs": [
    {
     "name": "stdout",
     "output_type": "stream",
     "text": [
      "('Train data shape ', (48000, 28, 28, 1))\n",
      "('Train label shape ', (48000,))\n",
      "('Validation data shape ', (12000, 28, 28, 1))\n",
      "('Validation label shape ', (12000,))\n",
      "('Test data shape ', (10000, 28, 28, 1))\n",
      "('Test label shape ', (10000,))\n"
     ]
    }
   ],
   "source": [
    "#save last 20% from x_train, y_train for validation set (for model tuning)\n",
    "val_size = len(X_train) // 5\n",
    "x_val = X_train[-val_size:]\n",
    "y_val = Y_train[-val_size:]\n",
    "x_train = X_train[:-val_size]\n",
    "y_train = Y_train[:-val_size]\n",
    "\n",
    "# add extra channel dimension\n",
    "x_train = np.expand_dims(x_train, 3)\n",
    "X_test = np.expand_dims(X_test, 3)\n",
    "x_val = np.expand_dims(x_val, 3)\n",
    "\n",
    "print(\"Train data shape \", x_train.shape)\n",
    "print(\"Train label shape \", y_train.shape)\n",
    "print(\"Validation data shape \", x_val.shape)\n",
    "print(\"Validation label shape \", y_val.shape)\n",
    "print(\"Test data shape \", X_test.shape)\n",
    "print(\"Test label shape \", Y_test.shape)"
   ]
  },
  {
   "cell_type": "markdown",
   "metadata": {},
   "source": [
    "3x3 filters + 1 bias value acting on the 28x28 image  \n",
    "32 kernel used --> 32 x (3x3+1) = 320\n",
    "\n",
    "\n",
    "\n",
    "\n",
    "**Relu**\n",
    "\n",
    "\n",
    "**Sigmoid**\n",
    "\n",
    "\n",
    "**Softmax**\n",
    "\n",
    "\n",
    "**Dropout**  \n",
    "Dropout is a technique where randomly selected neurons are ignored during training. They are “dropped-out” randomly. This means that their contribution to the activation of downstream neurons is temporally removed on the forward pass and any weight updates are not applied to the neuron on the backward pass.\n",
    "\n",
    "As a neural network learns, neuron weights settle into their context within the network. Weights of neurons are tuned for specific features providing some specialization. Neighboring neurons become to rely on this specialization, which if taken too far can result in a fragile model too specialized to the training data. This reliant on context for a neuron during training is referred to complex co-adaptations.\n",
    "\n",
    "You can imagine that if neurons are randomly dropped out of the network during training, that other neurons will have to step in and handle the representation required to make predictions for the missing neurons. This is believed to result in multiple independent internal representations being learned by the network.\n",
    "\n",
    "The effect is that the network becomes less sensitive to the specific weights of neurons. This in turn results in a network that is capable of better generalization and is less likely to overfit the training data.\n",
    "\n",
    "**Batch Size**  \n",
    "Batch size defines number of samples that going to be propagated through the network.\n",
    "\n",
    "For instance, let's say you have 1050 training samples and you want to set up batch_size equal to 100. Algorithm takes first 100 samples (from 1st to 100th) from the training dataset and trains network. Next it takes second 100 samples (from 101st to 200th) and train network again. We can keep doing this procedure until we will propagate through the networks all samples. The problem usually happens with the last set of samples. In our example we've used 1050 which is not divisible by 100 without remainder. The simplest solution is just to get final 50 samples and train the network.\n",
    "\n",
    "Advantages:\n",
    "\n",
    "* It requires less memory. Since you train network using less number of samples the overall training procedure requires less memory. It's especially important in case if you are not able to fit dataset in memory.\n",
    "\n",
    "* Typically networks trains faster with mini-batches. That's because we update weights after each propagation. In our example we've propagated 11 batches (10 of them had 100 samples and 1 had 50 samples) and after each of them we've updated network's parameters. If we used all samples during propagation we would make only 1 update for the network's parameter.\n",
    "\n",
    "Disadvantages:\n",
    "\n",
    "* The smaller the batch the less accurate estimate of the gradient.\n",
    "\n",
    "In the neural network terminology:\n",
    "\n",
    "* one epoch = one forward pass and one backward pass of all the training examples\n",
    "* batch size = the number of training examples in one forward/backward pass. The higher the batch size, the more memory space you'll need.\n",
    "* number of iterations = number of passes, each pass using `batch size` number of examples. To be clear, one pass = one forward pass + one backward pass (we do not count the forward pass and backward pass as two different passes).\n"
   ]
  },
  {
   "cell_type": "code",
   "execution_count": 6,
   "metadata": {},
   "outputs": [
    {
     "name": "stdout",
     "output_type": "stream",
     "text": [
      "_________________________________________________________________\n",
      "Layer (type)                 Output Shape              Param #   \n",
      "=================================================================\n",
      "input_1 (InputLayer)         (None, 28, 28, 1)         0         \n",
      "_________________________________________________________________\n",
      "conv2d_1 (Conv2D)            (None, 26, 26, 32)        320       \n",
      "_________________________________________________________________\n",
      "max_pooling2d_1 (MaxPooling2 (None, 13, 13, 32)        0         \n",
      "_________________________________________________________________\n",
      "dropout_1 (Dropout)          (None, 13, 13, 32)        0         \n",
      "_________________________________________________________________\n",
      "flatten_1 (Flatten)          (None, 5408)              0         \n",
      "_________________________________________________________________\n",
      "dense_1 (Dense)              (None, 128)               692352    \n",
      "_________________________________________________________________\n",
      "dense_2 (Dense)              (None, 10)                1290      \n",
      "=================================================================\n",
      "Total params: 693,962\n",
      "Trainable params: 693,962\n",
      "Non-trainable params: 0\n",
      "_________________________________________________________________\n"
     ]
    }
   ],
   "source": [
    "INPUT_SHAPE=x_train.shape[1:]\n",
    "BATCH_SIZE = 512\n",
    "\n",
    "# CNN with 1 Convolutional Layer\n",
    "SEQUENTIAL=False\n",
    "if SEQUENTIAL:\n",
    "    model = Sequential([\n",
    "        Conv2D(32, kernel_size=(3, 3), #<------------- one convolutional layer, could also specify initionalizer method, padding, \n",
    "        activation='relu', \n",
    "        input_shape=INPUT_SHAPE),\n",
    "        MaxPooling2D(pool_size=(2, 2)),#<------------- 2x2 max polling\n",
    "        Dropout(0.2),#<------------------------------- a regularization technique for neural network models\n",
    "        Flatten(), #<--------------------------------- flatten the box at the end\n",
    "        Dense(128, activation='relu'),#<-------------- dense layers do the segmentation\n",
    "        Dense(10, activation='softmax')\n",
    "    ])\n",
    "else: # alternative creation of the model using the functional api\n",
    "    inputs = Input(shape=INPUT_SHAPE)\n",
    "    output = Conv2D(32, kernel_size=(3, 3), activation='relu') (inputs)\n",
    "    output = MaxPooling2D(pool_size=(2, 2)) (output)\n",
    "    output = Dropout(0.2) (output)\n",
    "    output = Flatten() (output)\n",
    "    output = Dense(128, activation='relu') (output)\n",
    "    output = Dense(10, activation='softmax') (output)\n",
    "    model = Model(inputs, output)\n",
    "\n",
    "\n",
    "model.summary()\n"
   ]
  },
  {
   "cell_type": "code",
   "execution_count": 7,
   "metadata": {},
   "outputs": [],
   "source": [
    "#adam is a momentum minimzer, lr is a hyperparameter (learning rate)\n",
    "#we could use L2 distance as the error, but instead we use chategirical cross entropy\n",
    "    #there is a bunch defined in the keras documentation\n",
    "    #or u can write your own function\n",
    "    \n",
    "#accuracy is not the same as the loss function! - it is not differentiable --> back prop does not work\n",
    "\n",
    "model.compile(optimizer=Adam(lr=0.001),\n",
    "                loss='sparse_categorical_crossentropy',\n",
    "                metrics=['accuracy'])"
   ]
  },
  {
   "cell_type": "code",
   "execution_count": 8,
   "metadata": {},
   "outputs": [],
   "source": [
    "\"\"\"\n",
    "use data augmentation\n",
    "\"\"\"\n",
    "from keras.preprocessing.image import ImageDataGenerator\n",
    "\n",
    "gen = ImageDataGenerator(rotation_range=8, width_shift_range=0.08, shear_range=0.3,\n",
    "                               height_shift_range=0.08, zoom_range=0.08)\n",
    "\n",
    "batches = gen.flow(x_train, y_train, batch_size=BATCH_SIZE)\n",
    "val_gen = ImageDataGenerator()\n",
    "val_batches = val_gen.flow(x_val, y_val, batch_size=BATCH_SIZE)"
   ]
  },
  {
   "cell_type": "code",
   "execution_count": 9,
   "metadata": {},
   "outputs": [
    {
     "name": "stdout",
     "output_type": "stream",
     "text": [
      "Epoch 1/20\n",
      "93/93 [==============================] - 14s 148ms/step - loss: 0.8268 - acc: 0.7028 - val_loss: 0.5672 - val_acc: 0.7855\n",
      "Epoch 2/20\n",
      "93/93 [==============================] - 14s 147ms/step - loss: 0.5890 - acc: 0.7814 - val_loss: 0.4933 - val_acc: 0.8139\n",
      "Epoch 3/20\n",
      "93/93 [==============================] - 14s 146ms/step - loss: 0.5375 - acc: 0.8012 - val_loss: 0.4469 - val_acc: 0.8385\n",
      "Epoch 4/20\n",
      "93/93 [==============================] - 14s 147ms/step - loss: 0.5033 - acc: 0.8154 - val_loss: 0.4268 - val_acc: 0.8457\n",
      "Epoch 5/20\n",
      "93/93 [==============================] - 14s 146ms/step - loss: 0.4777 - acc: 0.8253 - val_loss: 0.4078 - val_acc: 0.8522\n",
      "Epoch 6/20\n",
      "93/93 [==============================] - 14s 147ms/step - loss: 0.4514 - acc: 0.8314 - val_loss: 0.3802 - val_acc: 0.8651\n",
      "Epoch 7/20\n",
      "93/93 [==============================] - 14s 147ms/step - loss: 0.4359 - acc: 0.8396 - val_loss: 0.3720 - val_acc: 0.8653\n",
      "Epoch 8/20\n",
      "93/93 [==============================] - 14s 148ms/step - loss: 0.4299 - acc: 0.8427 - val_loss: 0.3566 - val_acc: 0.8682\n",
      "Epoch 9/20\n",
      "93/93 [==============================] - 14s 147ms/step - loss: 0.4232 - acc: 0.8439 - val_loss: 0.3511 - val_acc: 0.8773\n",
      "Epoch 10/20\n",
      "93/93 [==============================] - 14s 147ms/step - loss: 0.4081 - acc: 0.8491 - val_loss: 0.3356 - val_acc: 0.8816\n",
      "Epoch 11/20\n",
      "93/93 [==============================] - 14s 148ms/step - loss: 0.4002 - acc: 0.8515 - val_loss: 0.3374 - val_acc: 0.8787\n",
      "Epoch 12/20\n",
      "93/93 [==============================] - 14s 148ms/step - loss: 0.3895 - acc: 0.8545 - val_loss: 0.3265 - val_acc: 0.8865\n",
      "Epoch 13/20\n",
      "93/93 [==============================] - 14s 147ms/step - loss: 0.3860 - acc: 0.8578 - val_loss: 0.3140 - val_acc: 0.8886\n",
      "Epoch 14/20\n",
      "93/93 [==============================] - 14s 147ms/step - loss: 0.3802 - acc: 0.8600 - val_loss: 0.3135 - val_acc: 0.8877\n",
      "Epoch 15/20\n",
      "93/93 [==============================] - 14s 147ms/step - loss: 0.3747 - acc: 0.8617 - val_loss: 0.3128 - val_acc: 0.8902\n",
      "Epoch 16/20\n",
      "93/93 [==============================] - 14s 147ms/step - loss: 0.3758 - acc: 0.8600 - val_loss: 0.3081 - val_acc: 0.8908\n",
      "Epoch 17/20\n",
      "93/93 [==============================] - 14s 148ms/step - loss: 0.3637 - acc: 0.8647 - val_loss: 0.3099 - val_acc: 0.8873\n",
      "Epoch 18/20\n",
      "93/93 [==============================] - 14s 148ms/step - loss: 0.3615 - acc: 0.8670 - val_loss: 0.3282 - val_acc: 0.8794\n",
      "Epoch 19/20\n",
      "93/93 [==============================] - 14s 148ms/step - loss: 0.3553 - acc: 0.8681 - val_loss: 0.2979 - val_acc: 0.8927\n",
      "Epoch 20/20\n",
      "93/93 [==============================] - 14s 148ms/step - loss: 0.3531 - acc: 0.8699 - val_loss: 0.2935 - val_acc: 0.8941\n",
      "('Test loss:', 0.303535215651989)\n",
      "('Test accuracy:', 0.8935)\n",
      "Epoch 1/20\n",
      "93/93 [==============================] - 14s 148ms/step - loss: 0.3365 - acc: 0.8771 - val_loss: 0.2840 - val_acc: 0.8972\n",
      "Epoch 2/20\n",
      "93/93 [==============================] - 14s 148ms/step - loss: 0.3369 - acc: 0.8767 - val_loss: 0.2819 - val_acc: 0.8981\n",
      "Epoch 3/20\n",
      "93/93 [==============================] - 14s 148ms/step - loss: 0.3322 - acc: 0.8769 - val_loss: 0.2826 - val_acc: 0.8980\n",
      "Epoch 4/20\n",
      "93/93 [==============================] - 14s 146ms/step - loss: 0.3337 - acc: 0.8757 - val_loss: 0.2800 - val_acc: 0.8990\n",
      "Epoch 5/20\n",
      "93/93 [==============================] - 14s 146ms/step - loss: 0.3307 - acc: 0.8794 - val_loss: 0.2825 - val_acc: 0.8979\n",
      "Epoch 6/20\n",
      "93/93 [==============================] - 14s 146ms/step - loss: 0.3336 - acc: 0.8781 - val_loss: 0.2804 - val_acc: 0.8973\n",
      "Epoch 7/20\n",
      "93/93 [==============================] - 14s 146ms/step - loss: 0.3285 - acc: 0.8804 - val_loss: 0.2783 - val_acc: 0.8994\n",
      "Epoch 8/20\n",
      "93/93 [==============================] - 14s 147ms/step - loss: 0.3337 - acc: 0.8766 - val_loss: 0.2793 - val_acc: 0.8981\n",
      "Epoch 9/20\n",
      "93/93 [==============================] - 13s 145ms/step - loss: 0.3257 - acc: 0.8807 - val_loss: 0.2759 - val_acc: 0.9005\n",
      "Epoch 10/20\n",
      "93/93 [==============================] - 14s 146ms/step - loss: 0.3309 - acc: 0.8780 - val_loss: 0.2793 - val_acc: 0.8989\n",
      "Epoch 11/20\n",
      "93/93 [==============================] - 14s 146ms/step - loss: 0.3256 - acc: 0.8804 - val_loss: 0.2806 - val_acc: 0.8993\n",
      "Epoch 12/20\n",
      "93/93 [==============================] - 13s 145ms/step - loss: 0.3284 - acc: 0.8778 - val_loss: 0.2770 - val_acc: 0.8995\n",
      "Epoch 13/20\n",
      "93/93 [==============================] - 14s 145ms/step - loss: 0.3262 - acc: 0.8800 - val_loss: 0.2778 - val_acc: 0.8999\n",
      "Epoch 14/20\n",
      "93/93 [==============================] - 14s 146ms/step - loss: 0.3278 - acc: 0.8777 - val_loss: 0.2780 - val_acc: 0.9005\n",
      "Epoch 15/20\n",
      "93/93 [==============================] - 13s 145ms/step - loss: 0.3232 - acc: 0.8806 - val_loss: 0.2750 - val_acc: 0.9009\n",
      "Epoch 16/20\n",
      "93/93 [==============================] - 13s 144ms/step - loss: 0.3256 - acc: 0.8802 - val_loss: 0.2796 - val_acc: 0.8996\n",
      "Epoch 17/20\n",
      "93/93 [==============================] - 13s 145ms/step - loss: 0.3253 - acc: 0.8801 - val_loss: 0.2734 - val_acc: 0.9023\n",
      "Epoch 18/20\n",
      "93/93 [==============================] - 13s 144ms/step - loss: 0.3223 - acc: 0.8817 - val_loss: 0.2764 - val_acc: 0.9000\n",
      "Epoch 19/20\n",
      "93/93 [==============================] - 13s 144ms/step - loss: 0.3258 - acc: 0.8795 - val_loss: 0.2714 - val_acc: 0.9018\n",
      "Epoch 20/20\n",
      "93/93 [==============================] - 13s 145ms/step - loss: 0.3244 - acc: 0.8792 - val_loss: 0.2716 - val_acc: 0.9015\n",
      "('Test loss:', 0.28463131190538404)\n",
      "('Test accuracy:', 0.9003)\n",
      "Epoch 1/20\n",
      "93/93 [==============================] - 14s 146ms/step - loss: 0.3231 - acc: 0.8797 - val_loss: 0.2733 - val_acc: 0.9009\n",
      "Epoch 2/20\n",
      "93/93 [==============================] - 14s 146ms/step - loss: 0.3220 - acc: 0.8812 - val_loss: 0.2734 - val_acc: 0.9012\n",
      "Epoch 3/20\n",
      "93/93 [==============================] - 13s 144ms/step - loss: 0.3218 - acc: 0.8822 - val_loss: 0.2736 - val_acc: 0.9011\n",
      "Epoch 4/20\n",
      "93/93 [==============================] - 13s 144ms/step - loss: 0.3229 - acc: 0.8812 - val_loss: 0.2730 - val_acc: 0.9012\n",
      "Epoch 5/20\n",
      "93/93 [==============================] - 14s 148ms/step - loss: 0.3196 - acc: 0.8832 - val_loss: 0.2726 - val_acc: 0.9011\n",
      "Epoch 6/20\n",
      "93/93 [==============================] - 16s 171ms/step - loss: 0.3235 - acc: 0.8800 - val_loss: 0.2734 - val_acc: 0.9018\n",
      "Epoch 7/20\n",
      "93/93 [==============================] - 16s 175ms/step - loss: 0.3228 - acc: 0.8793 - val_loss: 0.2730 - val_acc: 0.9017\n",
      "Epoch 8/20\n",
      "93/93 [==============================] - 16s 174ms/step - loss: 0.3240 - acc: 0.8805 - val_loss: 0.2723 - val_acc: 0.9012\n",
      "Epoch 9/20\n",
      "93/93 [==============================] - 16s 174ms/step - loss: 0.3186 - acc: 0.8820 - val_loss: 0.2732 - val_acc: 0.9013\n",
      "Epoch 10/20\n",
      "93/93 [==============================] - 16s 176ms/step - loss: 0.3216 - acc: 0.8809 - val_loss: 0.2733 - val_acc: 0.9018\n",
      "Epoch 11/20\n",
      "93/93 [==============================] - 16s 175ms/step - loss: 0.3201 - acc: 0.8813 - val_loss: 0.2728 - val_acc: 0.9014\n",
      "Epoch 12/20\n",
      "93/93 [==============================] - 16s 175ms/step - loss: 0.3212 - acc: 0.8815 - val_loss: 0.2730 - val_acc: 0.9012\n",
      "Epoch 13/20\n",
      "93/93 [==============================] - 15s 163ms/step - loss: 0.3190 - acc: 0.8818 - val_loss: 0.2716 - val_acc: 0.9019\n",
      "Epoch 14/20\n",
      "93/93 [==============================] - 14s 149ms/step - loss: 0.3185 - acc: 0.8821 - val_loss: 0.2723 - val_acc: 0.9006\n",
      "Epoch 15/20\n",
      "93/93 [==============================] - 14s 149ms/step - loss: 0.3223 - acc: 0.8815 - val_loss: 0.2733 - val_acc: 0.9009\n",
      "Epoch 16/20\n",
      "93/93 [==============================] - 14s 149ms/step - loss: 0.3175 - acc: 0.8847 - val_loss: 0.2717 - val_acc: 0.9018\n",
      "Epoch 17/20\n",
      "93/93 [==============================] - 14s 148ms/step - loss: 0.3187 - acc: 0.8824 - val_loss: 0.2728 - val_acc: 0.9011\n",
      "Epoch 18/20\n",
      "93/93 [==============================] - 14s 148ms/step - loss: 0.3157 - acc: 0.8833 - val_loss: 0.2719 - val_acc: 0.9013\n",
      "Epoch 19/20\n",
      "93/93 [==============================] - 14s 149ms/step - loss: 0.3220 - acc: 0.8815 - val_loss: 0.2728 - val_acc: 0.9012\n",
      "Epoch 20/20\n",
      "93/93 [==============================] - 14s 150ms/step - loss: 0.3172 - acc: 0.8838 - val_loss: 0.2722 - val_acc: 0.9009\n",
      "('Test loss:', 0.2843619262814522)\n",
      "('Test accuracy:', 0.9008)\n"
     ]
    }
   ],
   "source": [
    "#the back propagation doesnt happen after evaluating in 80000 points\n",
    "#happens in groups of batch_size\n",
    "#epoch tell how many rounds we teach\n",
    "\n",
    "#we give it the validation data for the verbose to be able to show the result\n",
    "\n",
    "\n",
    "#stochastic batch (random batching) gradient descend\n",
    "#there is some indeterministic tensorflow optimization descisions --> even with the seed fixed the result is different\n",
    "\n",
    "\n",
    "BATCH_SIZE = 512\n",
    "NB_EPOCHS = 20\n",
    "\n",
    "\n",
    "\n",
    "history1 = model.fit_generator(batches, \n",
    "                               steps_per_epoch=48000//BATCH_SIZE, \n",
    "                               epochs=20, \n",
    "                               validation_data=val_batches, \n",
    "                               validation_steps=12000//BATCH_SIZE)\n",
    "\n",
    "score = model.evaluate(X_test, Y_test, verbose=0)\n",
    "print('Test loss:', score[0])\n",
    "print('Test accuracy:', score[1])\n",
    "\n",
    "# Reduce the learning rate and continue training\n",
    "K.set_value(model.optimizer.lr, 0.0001)\n",
    "\n",
    "history2 = model.fit_generator(batches, \n",
    "                               steps_per_epoch=48000//BATCH_SIZE, \n",
    "                               epochs=20, \n",
    "                               validation_data=val_batches, \n",
    "                               validation_steps=12000//BATCH_SIZE)\n",
    "\n",
    "score = model.evaluate(X_test, Y_test, verbose=0)\n",
    "print('Test loss:', score[0])\n",
    "print('Test accuracy:', score[1])\n",
    "\n",
    "# Reduce the learning rate and continue training\n",
    "K.set_value(model.optimizer.lr, 0.00001)\n",
    "\n",
    "history3 = model.fit_generator(batches, \n",
    "                               steps_per_epoch=48000//BATCH_SIZE, \n",
    "                               epochs=20, \n",
    "                               validation_data=val_batches, \n",
    "                               validation_steps=12000//BATCH_SIZE)\n",
    "\n",
    "score = model.evaluate(X_test, Y_test, verbose=0)\n",
    "print('Test loss:', score[0])\n",
    "print('Test accuracy:', score[1])"
   ]
  },
  {
   "cell_type": "code",
   "execution_count": 10,
   "metadata": {},
   "outputs": [
    {
     "name": "stdout",
     "output_type": "stream",
     "text": [
      "('Test loss:', 0.2843619262814522)\n",
      "('Test accuracy:', 0.9008)\n"
     ]
    }
   ],
   "source": [
    "#test our results\n",
    "\n",
    "score = model.evaluate(X_test, Y_test, verbose=0)\n",
    "print('Test loss:', score[0])\n",
    "print('Test accuracy:', score[1])"
   ]
  },
  {
   "cell_type": "code",
   "execution_count": 11,
   "metadata": {},
   "outputs": [
    {
     "data": {
      "text/plain": [
       "<matplotlib.legend.Legend at 0x7efc3b40f450>"
      ]
     },
     "execution_count": 11,
     "metadata": {},
     "output_type": "execute_result"
    },
    {
     "data": {
      "image/png": "[encoded data removed]",
      "text/plain": [
       "<matplotlib.figure.Figure at 0x7efc3ba129d0>"
      ]
     },
     "metadata": {},
     "output_type": "display_data"
    }
   ],
   "source": [
    "plt.plot(history1.history['loss'] + history2.history['loss'] + history3.history['loss'])\n",
    "plt.plot(history1.history['val_loss'] + history2.history['val_loss'] + history3.history['val_loss'])\n",
    "plt.title('model loss')\n",
    "plt.ylabel('loss')\n",
    "plt.xlabel('epoch')\n",
    "plt.legend(['train', 'test'], loc='upper left')"
   ]
  },
  {
   "cell_type": "code",
   "execution_count": 12,
   "metadata": {},
   "outputs": [
    {
     "data": {
      "text/plain": [
       "<matplotlib.legend.Legend at 0x7efc3b31aed0>"
      ]
     },
     "execution_count": 12,
     "metadata": {},
     "output_type": "execute_result"
    },
    {
     "data": {
      "image/png": "[encoded data removed]",
      "text/plain": [
       "<matplotlib.figure.Figure at 0x7efc3b3de0d0>"
      ]
     },
     "metadata": {},
     "output_type": "display_data"
    }
   ],
   "source": [
    "plt.plot(history1.history['acc'] + history2.history['acc'] + history3.history['acc'])\n",
    "plt.plot(history1.history['val_acc'] + history2.history['val_acc'] + history3.history['val_acc'])\n",
    "plt.title('model accuracy')\n",
    "plt.ylabel('accuracy')\n",
    "plt.xlabel('epoch')\n",
    "plt.legend(['train', 'test'], loc='upper left')"
   ]
  },
  {
   "cell_type": "code",
   "execution_count": null,
   "metadata": {},
   "outputs": [],
   "source": []
  }
 ],
 "metadata": {
  "kernelspec": {
   "display_name": "Python 2",
   "language": "python",
   "name": "python2"
  },
  "language_info": {
   "codemirror_mode": {
    "name": "ipython",
    "version": 2
   },
   "file_extension": ".py",
   "mimetype": "text/x-python",
   "name": "python",
   "nbconvert_exporter": "python",
   "pygments_lexer": "ipython2",
   "version": "2.7.12"
  }
 },
 "nbformat": 4,
 "nbformat_minor": 2
}
