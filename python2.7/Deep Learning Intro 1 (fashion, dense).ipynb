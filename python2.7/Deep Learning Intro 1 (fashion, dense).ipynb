{
 "cells": [
  {
   "cell_type": "markdown",
   "metadata": {},
   "source": [
    "# Deep Learning Intro 1\n",
    "\n",
    "Feed Forward Network ~ function composition\n",
    "\n",
    "Tensorflow -- make computations given the computational network -- cnw ~ tensor computations\n",
    "\n",
    "<img src=\"./neuron_model.jpeg\"  width=\"50%\">\n",
    "\n",
    "keras ~ wrapper"
   ]
  },
  {
   "cell_type": "code",
   "execution_count": 1,
   "metadata": {},
   "outputs": [
    {
     "name": "stderr",
     "output_type": "stream",
     "text": [
      "Using TensorFlow backend.\n"
     ]
    }
   ],
   "source": [
    "import matplotlib.pyplot as plt\n",
    "import keras\n",
    "\n",
    "from keras.datasets import fashion_mnist\n",
    "\n",
    "from keras.models import Sequential\n",
    "from keras.layers import Dense, Flatten\n",
    "\n",
    "\n",
    "from keras.optimizers import Adam\n",
    "\n",
    "import numpy as np\n",
    "\n",
    "\n",
    "%matplotlib inline"
   ]
  },
  {
   "cell_type": "code",
   "execution_count": 2,
   "metadata": {},
   "outputs": [],
   "source": [
    "#set up random seed for debugging\n",
    "np.random.seed(666)"
   ]
  },
  {
   "cell_type": "code",
   "execution_count": 3,
   "metadata": {},
   "outputs": [
    {
     "name": "stdout",
     "output_type": "stream",
     "text": [
      "category of first stuff: 9\n"
     ]
    }
   ],
   "source": [
    "(X_train, Y_train), (X_test, Y_test) = fashion_mnist.load_data()\n",
    "\n",
    "print \"category of first stuff:\", Y_train[0]"
   ]
  },
  {
   "cell_type": "code",
   "execution_count": 4,
   "metadata": {},
   "outputs": [],
   "source": [
    "#normalize stuff\n",
    "X_train = X_train.astype('float32')\n",
    "X_test = X_test.astype('float32')\n",
    "X_train /= 255\n",
    "X_test /= 255"
   ]
  },
  {
   "cell_type": "code",
   "execution_count": 5,
   "metadata": {},
   "outputs": [
    {
     "name": "stdout",
     "output_type": "stream",
     "text": [
      "('Train data shape ', (48000, 28, 28))\n",
      "('Train label shape ', (48000,))\n",
      "('Validation data shape ', (12000, 28, 28))\n",
      "('Validation label shape ', (12000,))\n",
      "('Test data shape ', (10000, 28, 28))\n",
      "('Test label shape ', (10000,))\n"
     ]
    }
   ],
   "source": [
    "#save last 20% from x_train, y_train for validation set (for model tuning)\n",
    "val_size = len(X_train) // 5\n",
    "x_val = X_train[-val_size:]\n",
    "y_val = Y_train[-val_size:]\n",
    "x_train = X_train[:-val_size]\n",
    "y_train = Y_train[:-val_size]\n",
    "\n",
    "print(\"Train data shape \", x_train.shape)\n",
    "print(\"Train label shape \", y_train.shape)\n",
    "print(\"Validation data shape \", x_val.shape)\n",
    "print(\"Validation label shape \", y_val.shape)\n",
    "print(\"Test data shape \", X_test.shape)\n",
    "print(\"Test label shape \", Y_test.shape)"
   ]
  },
  {
   "cell_type": "markdown",
   "metadata": {},
   "source": [
    "dense, everybody is connected to the input layer\n",
    "\n",
    "$$Wx+b$$\n",
    "\n",
    "--> (28x28) x 512 + 512 parmeters for the first layer\n",
    "\n",
    "**Relu**\n",
    "\n",
    "\n",
    "**Sigmoid**\n",
    "\n",
    "\n",
    "**Softmax**\n",
    "\n",
    "\n",
    "**Dropout**\n",
    "Dropout is a technique where randomly selected neurons are ignored during training. They are “dropped-out” randomly. This means that their contribution to the activation of downstream neurons is temporally removed on the forward pass and any weight updates are not applied to the neuron on the backward pass.\n",
    "\n",
    "As a neural network learns, neuron weights settle into their context within the network. Weights of neurons are tuned for specific features providing some specialization. Neighboring neurons become to rely on this specialization, which if taken too far can result in a fragile model too specialized to the training data. This reliant on context for a neuron during training is referred to complex co-adaptations.\n",
    "\n",
    "You can imagine that if neurons are randomly dropped out of the network during training, that other neurons will have to step in and handle the representation required to make predictions for the missing neurons. This is believed to result in multiple independent internal representations being learned by the network.\n",
    "\n",
    "The effect is that the network becomes less sensitive to the specific weights of neurons. This in turn results in a network that is capable of better generalization and is less likely to overfit the training data.\n",
    "\n"
   ]
  },
  {
   "cell_type": "code",
   "execution_count": 6,
   "metadata": {},
   "outputs": [
    {
     "name": "stdout",
     "output_type": "stream",
     "text": [
      "_________________________________________________________________\n",
      "Layer (type)                 Output Shape              Param #   \n",
      "=================================================================\n",
      "flatten_1 (Flatten)          (None, 784)               0         \n",
      "_________________________________________________________________\n",
      "dense_1 (Dense)              (None, 512)               401920    \n",
      "_________________________________________________________________\n",
      "dense_2 (Dense)              (None, 128)               65664     \n",
      "_________________________________________________________________\n",
      "dense_3 (Dense)              (None, 10)                1290      \n",
      "=================================================================\n",
      "Total params: 468,874\n",
      "Trainable params: 468,874\n",
      "Non-trainable params: 0\n",
      "_________________________________________________________________\n"
     ]
    }
   ],
   "source": [
    "#define network architecture \n",
    "#computational graph creation\n",
    "\n",
    "#we create the \"model\" \n",
    "    #architecture\n",
    "\n",
    "INPUT_SHAPE=X_train.shape[1:]\n",
    "\n",
    "\n",
    "# Two layer dense network\n",
    "model = Sequential([\n",
    "    Flatten(input_shape=INPUT_SHAPE),#<---------- 2D to 1D\n",
    "    Dense(512, activation='relu'),   #<---------- 512 neurons in the first layer, \n",
    "    Dense(128, activation = 'relu'),\n",
    "    #Dense(128, activation = 'sigmoid'),#<-------- the gradient can be 0 -- learns slower! relu is actually better\n",
    "    Dense(10, activation='softmax')\n",
    "])\n",
    "\n",
    "model.summary()\n",
    "    \n",
    "    \n",
    "    "
   ]
  },
  {
   "cell_type": "code",
   "execution_count": 7,
   "metadata": {},
   "outputs": [],
   "source": [
    "#adam is a momentum minimzer, lr is a hyperparameter (learning rate)\n",
    "#we could use L2 distance as the error, but instead we use chategirical cross entropy\n",
    "    #there is a bunch defined in the keras documentation\n",
    "    #or u can write your own function\n",
    "    \n",
    "#accuracy is not the same as the loss function! - it is not differentiable --> back prop does not work\n",
    "\n",
    "model.compile(optimizer=Adam(lr=0.001),\n",
    "                loss='sparse_categorical_crossentropy',\n",
    "                metrics=['accuracy'])"
   ]
  },
  {
   "cell_type": "code",
   "execution_count": 8,
   "metadata": {},
   "outputs": [
    {
     "name": "stdout",
     "output_type": "stream",
     "text": [
      "Train on 48000 samples, validate on 12000 samples\n",
      "Epoch 1/20\n",
      "48000/48000 [==============================] - 2s 34us/step - loss: 0.6101 - acc: 0.7943 - val_loss: 0.4491 - val_acc: 0.8403\n",
      "Epoch 2/20\n",
      "48000/48000 [==============================] - 2s 32us/step - loss: 0.4171 - acc: 0.8530 - val_loss: 0.4049 - val_acc: 0.8538\n",
      "Epoch 3/20\n",
      "48000/48000 [==============================] - 2s 35us/step - loss: 0.3600 - acc: 0.8721 - val_loss: 0.3656 - val_acc: 0.8731\n",
      "Epoch 4/20\n",
      "48000/48000 [==============================] - 2s 34us/step - loss: 0.3274 - acc: 0.8826 - val_loss: 0.3350 - val_acc: 0.8813\n",
      "Epoch 5/20\n",
      "48000/48000 [==============================] - 2s 34us/step - loss: 0.3120 - acc: 0.8875 - val_loss: 0.3539 - val_acc: 0.8742\n",
      "Epoch 6/20\n",
      "48000/48000 [==============================] - 2s 34us/step - loss: 0.2918 - acc: 0.8937 - val_loss: 0.3167 - val_acc: 0.8859\n",
      "Epoch 7/20\n",
      "48000/48000 [==============================] - 2s 35us/step - loss: 0.2780 - acc: 0.8987 - val_loss: 0.3284 - val_acc: 0.8852\n",
      "Epoch 8/20\n",
      "48000/48000 [==============================] - 2s 34us/step - loss: 0.2617 - acc: 0.9038 - val_loss: 0.3289 - val_acc: 0.8813\n",
      "Epoch 9/20\n",
      "48000/48000 [==============================] - 2s 35us/step - loss: 0.2501 - acc: 0.9083 - val_loss: 0.3330 - val_acc: 0.8810\n",
      "Epoch 10/20\n",
      "48000/48000 [==============================] - 2s 34us/step - loss: 0.2411 - acc: 0.9121 - val_loss: 0.3245 - val_acc: 0.8861\n",
      "Epoch 11/20\n",
      "48000/48000 [==============================] - 2s 34us/step - loss: 0.2336 - acc: 0.9140 - val_loss: 0.3169 - val_acc: 0.8890\n",
      "Epoch 12/20\n",
      "48000/48000 [==============================] - 2s 35us/step - loss: 0.2249 - acc: 0.9170 - val_loss: 0.3034 - val_acc: 0.8946\n",
      "Epoch 13/20\n",
      "48000/48000 [==============================] - 2s 36us/step - loss: 0.2172 - acc: 0.9213 - val_loss: 0.3084 - val_acc: 0.8918\n",
      "Epoch 14/20\n",
      "48000/48000 [==============================] - 2s 34us/step - loss: 0.2072 - acc: 0.9245 - val_loss: 0.3216 - val_acc: 0.8885\n",
      "Epoch 15/20\n",
      "48000/48000 [==============================] - 2s 34us/step - loss: 0.1957 - acc: 0.9281 - val_loss: 0.2973 - val_acc: 0.8949\n",
      "Epoch 16/20\n",
      "48000/48000 [==============================] - 2s 35us/step - loss: 0.1900 - acc: 0.9310 - val_loss: 0.3070 - val_acc: 0.8946\n",
      "Epoch 17/20\n",
      "48000/48000 [==============================] - 2s 35us/step - loss: 0.1837 - acc: 0.9328 - val_loss: 0.3071 - val_acc: 0.8935\n",
      "Epoch 18/20\n",
      "48000/48000 [==============================] - 2s 35us/step - loss: 0.1793 - acc: 0.9340 - val_loss: 0.3082 - val_acc: 0.8986\n",
      "Epoch 19/20\n",
      "48000/48000 [==============================] - 2s 37us/step - loss: 0.1705 - acc: 0.9379 - val_loss: 0.3079 - val_acc: 0.8940\n",
      "Epoch 20/20\n",
      "48000/48000 [==============================] - 2s 34us/step - loss: 0.1711 - acc: 0.9382 - val_loss: 0.3349 - val_acc: 0.8856\n"
     ]
    }
   ],
   "source": [
    "#the back propagation doesnt happen after evaluating in 80000 points\n",
    "#happens in groups of batch_size\n",
    "#epoch tell how many rounds we teach\n",
    "\n",
    "#we give it the validation data for the verbose to be able to show the result\n",
    "\n",
    "\n",
    "#stochastic batch (random batching) gradient descend\n",
    "#there is some indeterministic tensorflow optimization descisions --> even with the seed fixed the result is different\n",
    "\n",
    "\n",
    "BATCH_SIZE = 512\n",
    "NB_EPOCHS = 20\n",
    "\n",
    "history = model.fit(x_train, y_train,\n",
    "                     batch_size=BATCH_SIZE,\n",
    "                     epochs=NB_EPOCHS,\n",
    "                     verbose=1,\n",
    "                     validation_data=(x_val, y_val))\n",
    "\n",
    "#really deep networks usually perform worse\n",
    "\n",
    "#teaching these can be done due to 2 big advancements:\n",
    "    #batch renormalization \n",
    "    #resnet"
   ]
  },
  {
   "cell_type": "code",
   "execution_count": 9,
   "metadata": {},
   "outputs": [
    {
     "name": "stdout",
     "output_type": "stream",
     "text": [
      "('Test loss:', 0.3621014052212238)\n",
      "('Test accuracy:', 0.8723)\n"
     ]
    }
   ],
   "source": [
    "#test our results\n",
    "\n",
    "score = model.evaluate(X_test, Y_test, verbose=0)\n",
    "print('Test loss:', score[0])\n",
    "print('Test accuracy:', score[1])"
   ]
  },
  {
   "cell_type": "code",
   "execution_count": 10,
   "metadata": {},
   "outputs": [
    {
     "name": "stdout",
     "output_type": "stream",
     "text": [
      "<keras.callbacks.History object at 0x7fa66d061b90>\n"
     ]
    }
   ],
   "source": [
    "print history"
   ]
  },
  {
   "cell_type": "code",
   "execution_count": 11,
   "metadata": {},
   "outputs": [
    {
     "data": {
      "text/plain": [
       "<matplotlib.legend.Legend at 0x7fa668a57cd0>"
      ]
     },
     "execution_count": 11,
     "metadata": {},
     "output_type": "execute_result"
    },
    {
     "data": {
      "image/png": "[encoded data removed]",
      "text/plain": [
       "<matplotlib.figure.Figure at 0x7fa668ac7790>"
      ]
     },
     "metadata": {},
     "output_type": "display_data"
    }
   ],
   "source": [
    "plt.plot(history.history['loss'])\n",
    "plt.plot(history.history['val_loss'])\n",
    "plt.title('model loss')\n",
    "plt.ylabel('loss')\n",
    "plt.xlabel('epoch')\n",
    "plt.legend(['train', 'test'], loc='upper left')"
   ]
  },
  {
   "cell_type": "code",
   "execution_count": 12,
   "metadata": {},
   "outputs": [
    {
     "data": {
      "text/plain": [
       "<matplotlib.legend.Legend at 0x7fa65b736690>"
      ]
     },
     "execution_count": 12,
     "metadata": {},
     "output_type": "execute_result"
    },
    {
     "data": {
      "image/png": "[encoded data removed]",
      "text/plain": [
       "<matplotlib.figure.Figure at 0x7fa666bc1c50>"
      ]
     },
     "metadata": {},
     "output_type": "display_data"
    }
   ],
   "source": [
    "plt.plot(history.history['acc'])\n",
    "plt.plot(history.history['val_acc'])\n",
    "plt.title('model accuracy')\n",
    "plt.ylabel('accuracy')\n",
    "plt.xlabel('epoch')\n",
    "plt.legend(['train', 'test'], loc='upper left')"
   ]
  },
  {
   "cell_type": "code",
   "execution_count": null,
   "metadata": {},
   "outputs": [],
   "source": []
  }
 ],
 "metadata": {
  "kernelspec": {
   "display_name": "Python 2",
   "language": "python",
   "name": "python2"
  },
  "language_info": {
   "codemirror_mode": {
    "name": "ipython",
    "version": 2
   },
   "file_extension": ".py",
   "mimetype": "text/x-python",
   "name": "python",
   "nbconvert_exporter": "python",
   "pygments_lexer": "ipython2",
   "version": "2.7.12"
  }
 },
 "nbformat": 4,
 "nbformat_minor": 2
}
